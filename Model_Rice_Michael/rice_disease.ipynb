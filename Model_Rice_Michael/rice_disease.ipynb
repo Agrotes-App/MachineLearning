{
  "nbformat": 4,
  "nbformat_minor": 0,
  "metadata": {
    "colab": {
      "provenance": []
    },
    "kernelspec": {
      "name": "python3",
      "display_name": "Python 3"
    },
    "language_info": {
      "name": "python"
    }
  },
  "cells": [
    {
      "cell_type": "code",
      "execution_count": 17,
      "metadata": {
        "id": "kWqToPKBhVWw"
      },
      "outputs": [],
      "source": [
        "import numpy as np\n",
        "import os\n",
        "import pandas as pd\n",
        "import matplotlib.pyplot as plt\n",
        "import tensorflow as tf\n",
        "import seaborn as sns\n",
        "from tensorflow.keras.preprocessing.image import ImageDataGenerator\n",
        "from tensorflow.keras.applications import MobileNet\n",
        "from tensorflow.keras.models import Sequential\n",
        "from tensorflow.keras.layers import Dense, GlobalAveragePooling2D, Dropout, BatchNormalization\n",
        "from tensorflow.keras.optimizers import Adam, SGD\n",
        "from tensorflow.keras.regularizers import l2\n",
        "from tensorflow.keras.callbacks import EarlyStopping, Callback\n",
        "from PIL import Image\n",
        "from sklearn.metrics import confusion_matrix, classification_report\n",
        "from google.colab import drive\n",
        "import shutil\n",
        "import random"
      ]
    },
    {
      "cell_type": "code",
      "source": [
        "from google.colab import drive\n",
        "drive.mount('/content/drive')"
      ],
      "metadata": {
        "colab": {
          "base_uri": "https://localhost:8080/"
        },
        "id": "YeTPuQVDhj6T",
        "outputId": "d4028ca7-1f2c-4483-8660-35a5bd9a75ee"
      },
      "execution_count": 2,
      "outputs": [
        {
          "output_type": "stream",
          "name": "stdout",
          "text": [
            "Drive already mounted at /content/drive; to attempt to forcibly remount, call drive.mount(\"/content/drive\", force_remount=True).\n"
          ]
        }
      ]
    },
    {
      "cell_type": "code",
      "source": [
        "dataset_path = '/content/drive/MyDrive/dataset/RiceLeafDisease'\n",
        "train_dir = '/content/drive/MyDrive/rice/train'  # Update this path\n",
        "validation_dir = '/content/drive/MyDrive/rice/valid'\n",
        "test_dir = '/content/drive/MyDrive/rice/test'  # Update this path"
      ],
      "metadata": {
        "id": "iNQaApmuh3WV"
      },
      "execution_count": 3,
      "outputs": []
    },
    {
      "cell_type": "code",
      "source": [
        "def clean_data(directory):\n",
        "    for folder in os.listdir(directory):\n",
        "        folder_path = os.path.join(directory, folder)\n",
        "        if os.path.isdir(folder_path):\n",
        "            for filename in os.listdir(folder_path):\n",
        "                file_path = os.path.join(folder_path, filename)\n",
        "                try:\n",
        "                    img = Image.open(file_path)\n",
        "                    img.verify()  # Verify the image\n",
        "                except (IOError, SyntaxError) as e:\n",
        "                    print(f'Removing corrupted file: {file_path}')\n",
        "                    os.remove(file_path)\n",
        "\n",
        "# Clean the data\n",
        "clean_data(dataset_path)"
      ],
      "metadata": {
        "id": "5yxSZNj4tD04"
      },
      "execution_count": 4,
      "outputs": []
    },
    {
      "cell_type": "code",
      "source": [
        "def loading_the_data(data_dir):\n",
        "    filepaths = []\n",
        "    labels = []\n",
        "\n",
        "    folds = os.listdir(data_dir)\n",
        "\n",
        "    for fold in folds:\n",
        "        foldpath = os.path.join(data_dir, fold)\n",
        "        filelist = os.listdir(foldpath)\n",
        "        for file in filelist:\n",
        "            fpath = os.path.join(foldpath, file)\n",
        "\n",
        "            filepaths.append(fpath)\n",
        "            labels.append(fold)\n",
        "\n",
        "    Fseries = pd.Series(filepaths, name='filepaths')\n",
        "    Lseries = pd.Series(labels, name='labels')\n",
        "\n",
        "    df = pd.concat([Fseries, Lseries], axis=1)\n",
        "\n",
        "    return df"
      ],
      "metadata": {
        "id": "ed4KXu7GtjoJ"
      },
      "execution_count": 5,
      "outputs": []
    },
    {
      "cell_type": "code",
      "source": [
        "df = loading_the_data(dataset_path)\n",
        "df"
      ],
      "metadata": {
        "colab": {
          "base_uri": "https://localhost:8080/",
          "height": 423
        },
        "id": "XFXbV4LRtUIo",
        "outputId": "207e4a33-66c2-4189-cea3-98e8f925b507"
      },
      "execution_count": 6,
      "outputs": [
        {
          "output_type": "execute_result",
          "data": {
            "text/plain": [
              "                                              filepaths      labels\n",
              "0     /content/drive/MyDrive/dataset/RiceLeafDisease...  Rice Hispa\n",
              "1     /content/drive/MyDrive/dataset/RiceLeafDisease...  Rice Hispa\n",
              "2     /content/drive/MyDrive/dataset/RiceLeafDisease...  Rice Hispa\n",
              "3     /content/drive/MyDrive/dataset/RiceLeafDisease...  Rice Hispa\n",
              "4     /content/drive/MyDrive/dataset/RiceLeafDisease...  Rice Hispa\n",
              "...                                                 ...         ...\n",
              "2495  /content/drive/MyDrive/dataset/RiceLeafDisease...       Blast\n",
              "2496  /content/drive/MyDrive/dataset/RiceLeafDisease...       Blast\n",
              "2497  /content/drive/MyDrive/dataset/RiceLeafDisease...       Blast\n",
              "2498  /content/drive/MyDrive/dataset/RiceLeafDisease...       Blast\n",
              "2499  /content/drive/MyDrive/dataset/RiceLeafDisease...       Blast\n",
              "\n",
              "[2500 rows x 2 columns]"
            ],
            "text/html": [
              "\n",
              "  <div id=\"df-e1e30205-f573-4c43-88d5-bdd41ba034cb\" class=\"colab-df-container\">\n",
              "    <div>\n",
              "<style scoped>\n",
              "    .dataframe tbody tr th:only-of-type {\n",
              "        vertical-align: middle;\n",
              "    }\n",
              "\n",
              "    .dataframe tbody tr th {\n",
              "        vertical-align: top;\n",
              "    }\n",
              "\n",
              "    .dataframe thead th {\n",
              "        text-align: right;\n",
              "    }\n",
              "</style>\n",
              "<table border=\"1\" class=\"dataframe\">\n",
              "  <thead>\n",
              "    <tr style=\"text-align: right;\">\n",
              "      <th></th>\n",
              "      <th>filepaths</th>\n",
              "      <th>labels</th>\n",
              "    </tr>\n",
              "  </thead>\n",
              "  <tbody>\n",
              "    <tr>\n",
              "      <th>0</th>\n",
              "      <td>/content/drive/MyDrive/dataset/RiceLeafDisease...</td>\n",
              "      <td>Rice Hispa</td>\n",
              "    </tr>\n",
              "    <tr>\n",
              "      <th>1</th>\n",
              "      <td>/content/drive/MyDrive/dataset/RiceLeafDisease...</td>\n",
              "      <td>Rice Hispa</td>\n",
              "    </tr>\n",
              "    <tr>\n",
              "      <th>2</th>\n",
              "      <td>/content/drive/MyDrive/dataset/RiceLeafDisease...</td>\n",
              "      <td>Rice Hispa</td>\n",
              "    </tr>\n",
              "    <tr>\n",
              "      <th>3</th>\n",
              "      <td>/content/drive/MyDrive/dataset/RiceLeafDisease...</td>\n",
              "      <td>Rice Hispa</td>\n",
              "    </tr>\n",
              "    <tr>\n",
              "      <th>4</th>\n",
              "      <td>/content/drive/MyDrive/dataset/RiceLeafDisease...</td>\n",
              "      <td>Rice Hispa</td>\n",
              "    </tr>\n",
              "    <tr>\n",
              "      <th>...</th>\n",
              "      <td>...</td>\n",
              "      <td>...</td>\n",
              "    </tr>\n",
              "    <tr>\n",
              "      <th>2495</th>\n",
              "      <td>/content/drive/MyDrive/dataset/RiceLeafDisease...</td>\n",
              "      <td>Blast</td>\n",
              "    </tr>\n",
              "    <tr>\n",
              "      <th>2496</th>\n",
              "      <td>/content/drive/MyDrive/dataset/RiceLeafDisease...</td>\n",
              "      <td>Blast</td>\n",
              "    </tr>\n",
              "    <tr>\n",
              "      <th>2497</th>\n",
              "      <td>/content/drive/MyDrive/dataset/RiceLeafDisease...</td>\n",
              "      <td>Blast</td>\n",
              "    </tr>\n",
              "    <tr>\n",
              "      <th>2498</th>\n",
              "      <td>/content/drive/MyDrive/dataset/RiceLeafDisease...</td>\n",
              "      <td>Blast</td>\n",
              "    </tr>\n",
              "    <tr>\n",
              "      <th>2499</th>\n",
              "      <td>/content/drive/MyDrive/dataset/RiceLeafDisease...</td>\n",
              "      <td>Blast</td>\n",
              "    </tr>\n",
              "  </tbody>\n",
              "</table>\n",
              "<p>2500 rows × 2 columns</p>\n",
              "</div>\n",
              "    <div class=\"colab-df-buttons\">\n",
              "\n",
              "  <div class=\"colab-df-container\">\n",
              "    <button class=\"colab-df-convert\" onclick=\"convertToInteractive('df-e1e30205-f573-4c43-88d5-bdd41ba034cb')\"\n",
              "            title=\"Convert this dataframe to an interactive table.\"\n",
              "            style=\"display:none;\">\n",
              "\n",
              "  <svg xmlns=\"http://www.w3.org/2000/svg\" height=\"24px\" viewBox=\"0 -960 960 960\">\n",
              "    <path d=\"M120-120v-720h720v720H120Zm60-500h600v-160H180v160Zm220 220h160v-160H400v160Zm0 220h160v-160H400v160ZM180-400h160v-160H180v160Zm440 0h160v-160H620v160ZM180-180h160v-160H180v160Zm440 0h160v-160H620v160Z\"/>\n",
              "  </svg>\n",
              "    </button>\n",
              "\n",
              "  <style>\n",
              "    .colab-df-container {\n",
              "      display:flex;\n",
              "      gap: 12px;\n",
              "    }\n",
              "\n",
              "    .colab-df-convert {\n",
              "      background-color: #E8F0FE;\n",
              "      border: none;\n",
              "      border-radius: 50%;\n",
              "      cursor: pointer;\n",
              "      display: none;\n",
              "      fill: #1967D2;\n",
              "      height: 32px;\n",
              "      padding: 0 0 0 0;\n",
              "      width: 32px;\n",
              "    }\n",
              "\n",
              "    .colab-df-convert:hover {\n",
              "      background-color: #E2EBFA;\n",
              "      box-shadow: 0px 1px 2px rgba(60, 64, 67, 0.3), 0px 1px 3px 1px rgba(60, 64, 67, 0.15);\n",
              "      fill: #174EA6;\n",
              "    }\n",
              "\n",
              "    .colab-df-buttons div {\n",
              "      margin-bottom: 4px;\n",
              "    }\n",
              "\n",
              "    [theme=dark] .colab-df-convert {\n",
              "      background-color: #3B4455;\n",
              "      fill: #D2E3FC;\n",
              "    }\n",
              "\n",
              "    [theme=dark] .colab-df-convert:hover {\n",
              "      background-color: #434B5C;\n",
              "      box-shadow: 0px 1px 3px 1px rgba(0, 0, 0, 0.15);\n",
              "      filter: drop-shadow(0px 1px 2px rgba(0, 0, 0, 0.3));\n",
              "      fill: #FFFFFF;\n",
              "    }\n",
              "  </style>\n",
              "\n",
              "    <script>\n",
              "      const buttonEl =\n",
              "        document.querySelector('#df-e1e30205-f573-4c43-88d5-bdd41ba034cb button.colab-df-convert');\n",
              "      buttonEl.style.display =\n",
              "        google.colab.kernel.accessAllowed ? 'block' : 'none';\n",
              "\n",
              "      async function convertToInteractive(key) {\n",
              "        const element = document.querySelector('#df-e1e30205-f573-4c43-88d5-bdd41ba034cb');\n",
              "        const dataTable =\n",
              "          await google.colab.kernel.invokeFunction('convertToInteractive',\n",
              "                                                    [key], {});\n",
              "        if (!dataTable) return;\n",
              "\n",
              "        const docLinkHtml = 'Like what you see? Visit the ' +\n",
              "          '<a target=\"_blank\" href=https://colab.research.google.com/notebooks/data_table.ipynb>data table notebook</a>'\n",
              "          + ' to learn more about interactive tables.';\n",
              "        element.innerHTML = '';\n",
              "        dataTable['output_type'] = 'display_data';\n",
              "        await google.colab.output.renderOutput(dataTable, element);\n",
              "        const docLink = document.createElement('div');\n",
              "        docLink.innerHTML = docLinkHtml;\n",
              "        element.appendChild(docLink);\n",
              "      }\n",
              "    </script>\n",
              "  </div>\n",
              "\n",
              "\n",
              "<div id=\"df-e79589e4-dbc0-4e7e-ad36-dee6d213aab0\">\n",
              "  <button class=\"colab-df-quickchart\" onclick=\"quickchart('df-e79589e4-dbc0-4e7e-ad36-dee6d213aab0')\"\n",
              "            title=\"Suggest charts\"\n",
              "            style=\"display:none;\">\n",
              "\n",
              "<svg xmlns=\"http://www.w3.org/2000/svg\" height=\"24px\"viewBox=\"0 0 24 24\"\n",
              "     width=\"24px\">\n",
              "    <g>\n",
              "        <path d=\"M19 3H5c-1.1 0-2 .9-2 2v14c0 1.1.9 2 2 2h14c1.1 0 2-.9 2-2V5c0-1.1-.9-2-2-2zM9 17H7v-7h2v7zm4 0h-2V7h2v10zm4 0h-2v-4h2v4z\"/>\n",
              "    </g>\n",
              "</svg>\n",
              "  </button>\n",
              "\n",
              "<style>\n",
              "  .colab-df-quickchart {\n",
              "      --bg-color: #E8F0FE;\n",
              "      --fill-color: #1967D2;\n",
              "      --hover-bg-color: #E2EBFA;\n",
              "      --hover-fill-color: #174EA6;\n",
              "      --disabled-fill-color: #AAA;\n",
              "      --disabled-bg-color: #DDD;\n",
              "  }\n",
              "\n",
              "  [theme=dark] .colab-df-quickchart {\n",
              "      --bg-color: #3B4455;\n",
              "      --fill-color: #D2E3FC;\n",
              "      --hover-bg-color: #434B5C;\n",
              "      --hover-fill-color: #FFFFFF;\n",
              "      --disabled-bg-color: #3B4455;\n",
              "      --disabled-fill-color: #666;\n",
              "  }\n",
              "\n",
              "  .colab-df-quickchart {\n",
              "    background-color: var(--bg-color);\n",
              "    border: none;\n",
              "    border-radius: 50%;\n",
              "    cursor: pointer;\n",
              "    display: none;\n",
              "    fill: var(--fill-color);\n",
              "    height: 32px;\n",
              "    padding: 0;\n",
              "    width: 32px;\n",
              "  }\n",
              "\n",
              "  .colab-df-quickchart:hover {\n",
              "    background-color: var(--hover-bg-color);\n",
              "    box-shadow: 0 1px 2px rgba(60, 64, 67, 0.3), 0 1px 3px 1px rgba(60, 64, 67, 0.15);\n",
              "    fill: var(--button-hover-fill-color);\n",
              "  }\n",
              "\n",
              "  .colab-df-quickchart-complete:disabled,\n",
              "  .colab-df-quickchart-complete:disabled:hover {\n",
              "    background-color: var(--disabled-bg-color);\n",
              "    fill: var(--disabled-fill-color);\n",
              "    box-shadow: none;\n",
              "  }\n",
              "\n",
              "  .colab-df-spinner {\n",
              "    border: 2px solid var(--fill-color);\n",
              "    border-color: transparent;\n",
              "    border-bottom-color: var(--fill-color);\n",
              "    animation:\n",
              "      spin 1s steps(1) infinite;\n",
              "  }\n",
              "\n",
              "  @keyframes spin {\n",
              "    0% {\n",
              "      border-color: transparent;\n",
              "      border-bottom-color: var(--fill-color);\n",
              "      border-left-color: var(--fill-color);\n",
              "    }\n",
              "    20% {\n",
              "      border-color: transparent;\n",
              "      border-left-color: var(--fill-color);\n",
              "      border-top-color: var(--fill-color);\n",
              "    }\n",
              "    30% {\n",
              "      border-color: transparent;\n",
              "      border-left-color: var(--fill-color);\n",
              "      border-top-color: var(--fill-color);\n",
              "      border-right-color: var(--fill-color);\n",
              "    }\n",
              "    40% {\n",
              "      border-color: transparent;\n",
              "      border-right-color: var(--fill-color);\n",
              "      border-top-color: var(--fill-color);\n",
              "    }\n",
              "    60% {\n",
              "      border-color: transparent;\n",
              "      border-right-color: var(--fill-color);\n",
              "    }\n",
              "    80% {\n",
              "      border-color: transparent;\n",
              "      border-right-color: var(--fill-color);\n",
              "      border-bottom-color: var(--fill-color);\n",
              "    }\n",
              "    90% {\n",
              "      border-color: transparent;\n",
              "      border-bottom-color: var(--fill-color);\n",
              "    }\n",
              "  }\n",
              "</style>\n",
              "\n",
              "  <script>\n",
              "    async function quickchart(key) {\n",
              "      const quickchartButtonEl =\n",
              "        document.querySelector('#' + key + ' button');\n",
              "      quickchartButtonEl.disabled = true;  // To prevent multiple clicks.\n",
              "      quickchartButtonEl.classList.add('colab-df-spinner');\n",
              "      try {\n",
              "        const charts = await google.colab.kernel.invokeFunction(\n",
              "            'suggestCharts', [key], {});\n",
              "      } catch (error) {\n",
              "        console.error('Error during call to suggestCharts:', error);\n",
              "      }\n",
              "      quickchartButtonEl.classList.remove('colab-df-spinner');\n",
              "      quickchartButtonEl.classList.add('colab-df-quickchart-complete');\n",
              "    }\n",
              "    (() => {\n",
              "      let quickchartButtonEl =\n",
              "        document.querySelector('#df-e79589e4-dbc0-4e7e-ad36-dee6d213aab0 button');\n",
              "      quickchartButtonEl.style.display =\n",
              "        google.colab.kernel.accessAllowed ? 'block' : 'none';\n",
              "    })();\n",
              "  </script>\n",
              "</div>\n",
              "\n",
              "  <div id=\"id_492f8627-4a31-46c5-b255-e7f50882437b\">\n",
              "    <style>\n",
              "      .colab-df-generate {\n",
              "        background-color: #E8F0FE;\n",
              "        border: none;\n",
              "        border-radius: 50%;\n",
              "        cursor: pointer;\n",
              "        display: none;\n",
              "        fill: #1967D2;\n",
              "        height: 32px;\n",
              "        padding: 0 0 0 0;\n",
              "        width: 32px;\n",
              "      }\n",
              "\n",
              "      .colab-df-generate:hover {\n",
              "        background-color: #E2EBFA;\n",
              "        box-shadow: 0px 1px 2px rgba(60, 64, 67, 0.3), 0px 1px 3px 1px rgba(60, 64, 67, 0.15);\n",
              "        fill: #174EA6;\n",
              "      }\n",
              "\n",
              "      [theme=dark] .colab-df-generate {\n",
              "        background-color: #3B4455;\n",
              "        fill: #D2E3FC;\n",
              "      }\n",
              "\n",
              "      [theme=dark] .colab-df-generate:hover {\n",
              "        background-color: #434B5C;\n",
              "        box-shadow: 0px 1px 3px 1px rgba(0, 0, 0, 0.15);\n",
              "        filter: drop-shadow(0px 1px 2px rgba(0, 0, 0, 0.3));\n",
              "        fill: #FFFFFF;\n",
              "      }\n",
              "    </style>\n",
              "    <button class=\"colab-df-generate\" onclick=\"generateWithVariable('df')\"\n",
              "            title=\"Generate code using this dataframe.\"\n",
              "            style=\"display:none;\">\n",
              "\n",
              "  <svg xmlns=\"http://www.w3.org/2000/svg\" height=\"24px\"viewBox=\"0 0 24 24\"\n",
              "       width=\"24px\">\n",
              "    <path d=\"M7,19H8.4L18.45,9,17,7.55,7,17.6ZM5,21V16.75L18.45,3.32a2,2,0,0,1,2.83,0l1.4,1.43a1.91,1.91,0,0,1,.58,1.4,1.91,1.91,0,0,1-.58,1.4L9.25,21ZM18.45,9,17,7.55Zm-12,3A5.31,5.31,0,0,0,4.9,8.1,5.31,5.31,0,0,0,1,6.5,5.31,5.31,0,0,0,4.9,4.9,5.31,5.31,0,0,0,6.5,1,5.31,5.31,0,0,0,8.1,4.9,5.31,5.31,0,0,0,12,6.5,5.46,5.46,0,0,0,6.5,12Z\"/>\n",
              "  </svg>\n",
              "    </button>\n",
              "    <script>\n",
              "      (() => {\n",
              "      const buttonEl =\n",
              "        document.querySelector('#id_492f8627-4a31-46c5-b255-e7f50882437b button.colab-df-generate');\n",
              "      buttonEl.style.display =\n",
              "        google.colab.kernel.accessAllowed ? 'block' : 'none';\n",
              "\n",
              "      buttonEl.onclick = () => {\n",
              "        google.colab.notebook.generateWithVariable('df');\n",
              "      }\n",
              "      })();\n",
              "    </script>\n",
              "  </div>\n",
              "\n",
              "    </div>\n",
              "  </div>\n"
            ],
            "application/vnd.google.colaboratory.intrinsic+json": {
              "type": "dataframe",
              "variable_name": "df",
              "summary": "{\n  \"name\": \"df\",\n  \"rows\": 2500,\n  \"fields\": [\n    {\n      \"column\": \"filepaths\",\n      \"properties\": {\n        \"dtype\": \"string\",\n        \"num_unique_values\": 2500,\n        \"samples\": [\n          \"/content/drive/MyDrive/dataset/RiceLeafDisease/Healthy Rice Leaf/aug_0_8863.jpg\",\n          \"/content/drive/MyDrive/dataset/RiceLeafDisease/Healthy Rice Leaf/Healthy_rice_leaf (36).jpg\",\n          \"/content/drive/MyDrive/dataset/RiceLeafDisease/Healthy Rice Leaf/Healthy_rice_leaf (16).jpg\"\n        ],\n        \"semantic_type\": \"\",\n        \"description\": \"\"\n      }\n    },\n    {\n      \"column\": \"labels\",\n      \"properties\": {\n        \"dtype\": \"category\",\n        \"num_unique_values\": 5,\n        \"samples\": [\n          \"Bacterialblight\",\n          \"Blast\",\n          \"Healthy Rice Leaf\"\n        ],\n        \"semantic_type\": \"\",\n        \"description\": \"\"\n      }\n    }\n  ]\n}"
            }
          },
          "metadata": {},
          "execution_count": 6
        }
      ]
    },
    {
      "cell_type": "code",
      "source": [
        "data_balance = df.labels.value_counts()\n",
        "data_balance"
      ],
      "metadata": {
        "colab": {
          "base_uri": "https://localhost:8080/"
        },
        "id": "A-hz94dlt-AZ",
        "outputId": "e9dd78ef-a09a-41ed-8bb2-192a28aaa39e"
      },
      "execution_count": 7,
      "outputs": [
        {
          "output_type": "execute_result",
          "data": {
            "text/plain": [
              "labels\n",
              "Rice Hispa           500\n",
              "Bacterialblight      500\n",
              "Healthy Rice Leaf    500\n",
              "Brownspot            500\n",
              "Blast                500\n",
              "Name: count, dtype: int64"
            ]
          },
          "metadata": {},
          "execution_count": 7
        }
      ]
    },
    {
      "cell_type": "code",
      "source": [
        "def split_dataset(class_dir, split_ratio):\n",
        "    images = [os.path.join(class_dir, img) for img in os.listdir(class_dir)]\n",
        "    random.shuffle(images)\n",
        "    total_images = len(images)\n",
        "\n",
        "    train_end = int(total_images * split_ratio[0])\n",
        "    val_end = train_end + int(total_images * split_ratio[1])\n",
        "\n",
        "    train_images = images[:train_end]\n",
        "    validation_images = images[train_end:val_end]\n",
        "    test_images = images[val_end:]\n",
        "\n",
        "    return train_images, validation_images, test_images"
      ],
      "metadata": {
        "id": "_WrkuddQmWTh"
      },
      "execution_count": 8,
      "outputs": []
    },
    {
      "cell_type": "code",
      "source": [
        "# Function to copy files\n",
        "def copy_files(image_list, destination_dir):\n",
        "    for image in image_list:\n",
        "        class_name = os.path.basename(os.path.dirname(image))\n",
        "        dest_class_dir = os.path.join(destination_dir, class_name)\n",
        "        os.makedirs(dest_class_dir, exist_ok=True)\n",
        "        shutil.copy(image, dest_class_dir)"
      ],
      "metadata": {
        "id": "B_SwZ5ZFwatA"
      },
      "execution_count": 9,
      "outputs": []
    },
    {
      "cell_type": "code",
      "source": [
        "split_ratio = [0.8, 0.1, 0.1]\n",
        "for class_name in os.listdir(dataset_path):\n",
        "    class_dir = os.path.join(dataset_path, class_name)\n",
        "    if os.path.isdir(class_dir):\n",
        "        train_images, validation_images, test_images = split_dataset(class_dir, split_ratio)\n",
        "\n",
        "        copy_files(train_images, train_dir)\n",
        "        copy_files(validation_images, validation_dir)\n",
        "        copy_files(test_images, test_dir)"
      ],
      "metadata": {
        "id": "G96t2oJLdf8H"
      },
      "execution_count": 10,
      "outputs": []
    },
    {
      "cell_type": "code",
      "source": [
        "# Data augmentation and normalization\n",
        "train_datagen = ImageDataGenerator(\n",
        "    rescale=1./255,\n",
        "    shear_range=0.2,\n",
        "    zoom_range=0.2,\n",
        "    horizontal_flip=True,\n",
        "    rotation_range=40,\n",
        "    width_shift_range=0.3,\n",
        "    height_shift_range=0.3,\n",
        ")\n",
        "\n",
        "validation_datagen = ImageDataGenerator(\n",
        "    rescale=1./255\n",
        ")\n",
        "\n",
        "test_datagen = ImageDataGenerator(\n",
        "    rescale=1./255\n",
        ")\n",
        "\n",
        "train_generator = train_datagen.flow_from_directory(\n",
        "    train_dir,\n",
        "    target_size=(128, 128),\n",
        "    batch_size=10,\n",
        "    class_mode='categorical',\n",
        ")\n",
        "\n",
        "validation_generator = validation_datagen.flow_from_directory(\n",
        "    validation_dir,\n",
        "    target_size=(128, 128),\n",
        "    batch_size=10,\n",
        "    class_mode='categorical',\n",
        ")\n",
        "\n",
        "test_generator = test_datagen.flow_from_directory(\n",
        "    test_dir,\n",
        "    target_size=(128, 128),\n",
        "    batch_size=10,\n",
        "    class_mode='categorical',\n",
        ")"
      ],
      "metadata": {
        "colab": {
          "base_uri": "https://localhost:8080/"
        },
        "id": "0Db8aQ4ciylr",
        "outputId": "c3d3d5a7-c621-4161-c767-3e7b80ef4447"
      },
      "execution_count": 11,
      "outputs": [
        {
          "output_type": "stream",
          "name": "stdout",
          "text": [
            "Found 2000 images belonging to 5 classes.\n",
            "Found 250 images belonging to 5 classes.\n",
            "Found 250 images belonging to 5 classes.\n"
          ]
        }
      ]
    },
    {
      "cell_type": "code",
      "source": [
        "# Count the number of images in each class\n",
        "def count_images(directory):\n",
        "    class_counts = {}\n",
        "    for class_name in os.listdir(directory):\n",
        "        class_path = os.path.join(directory, class_name)\n",
        "        if os.path.isdir(class_path):\n",
        "            num_images = len(os.listdir(class_path))\n",
        "            class_counts[class_name] = num_images\n",
        "    return class_counts\n",
        "\n",
        "# Count images in training, validation, and testing sets\n",
        "train_class_counts = count_images(train_dir)\n",
        "validation_class_counts = count_images(validation_dir)\n",
        "test_class_counts = count_images(test_dir)\n",
        "\n",
        "# Print the counts\n",
        "print(\"Training Class Counts:\", train_class_counts)\n",
        "print(\"Validation Class Counts:\", validation_class_counts)\n",
        "print(\"Testing Class Counts:\", test_class_counts)"
      ],
      "metadata": {
        "colab": {
          "base_uri": "https://localhost:8080/"
        },
        "id": "-kZ8c22rbqex",
        "outputId": "2e78a28f-1a7d-4c5a-be2f-af0a0b00e3b7"
      },
      "execution_count": 12,
      "outputs": [
        {
          "output_type": "stream",
          "name": "stdout",
          "text": [
            "Training Class Counts: {'Rice Hispa': 400, 'Bacterialblight': 400, 'Healthy Rice Leaf': 400, 'Brownspot': 400, 'Blast': 400}\n",
            "Validation Class Counts: {'Rice Hispa': 50, 'Bacterialblight': 50, 'Healthy Rice Leaf': 50, 'Brownspot': 50, 'Blast': 50}\n",
            "Testing Class Counts: {'Rice Hispa': 50, 'Bacterialblight': 50, 'Healthy Rice Leaf': 50, 'Brownspot': 50, 'Blast': 50}\n"
          ]
        }
      ]
    },
    {
      "cell_type": "code",
      "source": [
        "print(train_generator.class_indices)\n",
        "print(validation_generator.class_indices)"
      ],
      "metadata": {
        "colab": {
          "base_uri": "https://localhost:8080/"
        },
        "id": "VL74I9-3OFG7",
        "outputId": "506c5d45-1fcb-4390-feba-12c7088d2f81"
      },
      "execution_count": 13,
      "outputs": [
        {
          "output_type": "stream",
          "name": "stdout",
          "text": [
            "{'Bacterialblight': 0, 'Blast': 1, 'Brownspot': 2, 'Healthy Rice Leaf': 3, 'Rice Hispa': 4}\n",
            "{'Bacterialblight': 0, 'Blast': 1, 'Brownspot': 2, 'Healthy Rice Leaf': 3, 'Rice Hispa': 4}\n"
          ]
        }
      ]
    },
    {
      "cell_type": "code",
      "source": [
        "# Load MobileNet model with pretrained weights\n",
        "base_model = MobileNet(weights='imagenet', include_top=False, input_shape=(128, 128, 3))\n",
        "\n",
        "# Unfreeze some layers of the base model\n",
        "for layer in base_model.layers[-20:]:\n",
        "    layer.trainable = True"
      ],
      "metadata": {
        "id": "ZvtfT1DCi-tc",
        "colab": {
          "base_uri": "https://localhost:8080/"
        },
        "outputId": "3cd79829-bc48-4d2f-fcda-b19073f73aa0"
      },
      "execution_count": 14,
      "outputs": [
        {
          "output_type": "stream",
          "name": "stdout",
          "text": [
            "Downloading data from https://storage.googleapis.com/tensorflow/keras-applications/mobilenet/mobilenet_1_0_128_tf_no_top.h5\n",
            "17225924/17225924 [==============================] - 0s 0us/step\n"
          ]
        }
      ]
    },
    {
      "cell_type": "code",
      "source": [
        "# Add custom layers on top of MobileNet\n",
        "model = Sequential([\n",
        "    base_model,\n",
        "    GlobalAveragePooling2D(),\n",
        "    BatchNormalization(),\n",
        "    Dropout(0.5),\n",
        "    Dense(512, activation='relu', kernel_regularizer=l2(0.01)),\n",
        "    BatchNormalization(),\n",
        "    Dropout(0.5),\n",
        "    Dense(train_generator.num_classes, activation='softmax', kernel_regularizer=l2(0.01))\n",
        "])\n",
        "\n",
        "# Compile the model with a modified learning rate\n",
        "model.compile(optimizer=Adam(learning_rate=0.0001), loss='categorical_crossentropy', metrics=['accuracy'])"
      ],
      "metadata": {
        "id": "s7ssebafjEOX"
      },
      "execution_count": 15,
      "outputs": []
    },
    {
      "cell_type": "code",
      "source": [
        "class LossThresholdCallback(Callback):\n",
        "    def __init__(self, threshold=0.1):\n",
        "        super(LossThresholdCallback, self).__init__()\n",
        "        self.threshold = threshold\n",
        "\n",
        "    def on_epoch_end(self, epoch, logs=None):\n",
        "        if logs.get('loss') < self.threshold and logs.get('val_loss') < self.threshold:\n",
        "            print(f\"\\nEpoch {epoch + 1}: loss {logs.get('loss'):.4f} and val_loss {logs.get('val_loss'):.4f} are below {self.threshold}. Stopping training.\")\n",
        "            self.model.stop_training = True"
      ],
      "metadata": {
        "id": "HOfRwCPWQgD3"
      },
      "execution_count": 21,
      "outputs": []
    },
    {
      "cell_type": "code",
      "source": [
        "loss_threshold = LossThresholdCallback(threshold=0.05)"
      ],
      "metadata": {
        "id": "JTpfsQfdQgsM"
      },
      "execution_count": 35,
      "outputs": []
    },
    {
      "cell_type": "code",
      "source": [
        "# Add early stopping\n",
        "early_stopping = EarlyStopping(monitor='val_loss', patience=5, restore_best_weights=True)\n",
        "\n",
        "# Train the model\n",
        "history = model.fit(\n",
        "    train_generator,\n",
        "    epochs=200,\n",
        "    validation_data=validation_generator,\n",
        "    callbacks=[loss_threshold]\n",
        ")"
      ],
      "metadata": {
        "colab": {
          "base_uri": "https://localhost:8080/"
        },
        "id": "A2ba89lZjM_e",
        "outputId": "775f5654-dbaf-4a38-9ab7-98717586718e"
      },
      "execution_count": 37,
      "outputs": [
        {
          "output_type": "stream",
          "name": "stdout",
          "text": [
            "Epoch 1/200\n",
            "200/200 [==============================] - 144s 718ms/step - loss: 0.0716 - accuracy: 0.9885 - val_loss: 0.0693 - val_accuracy: 0.9920\n",
            "Epoch 2/200\n",
            "200/200 [==============================] - 140s 700ms/step - loss: 0.0629 - accuracy: 0.9975 - val_loss: 0.0595 - val_accuracy: 0.9960\n",
            "Epoch 3/200\n",
            "200/200 [==============================] - 146s 731ms/step - loss: 0.0738 - accuracy: 0.9920 - val_loss: 0.0544 - val_accuracy: 0.9960\n",
            "Epoch 4/200\n",
            "200/200 [==============================] - 144s 719ms/step - loss: 0.0782 - accuracy: 0.9925 - val_loss: 0.0583 - val_accuracy: 0.9960\n",
            "Epoch 5/200\n",
            "200/200 [==============================] - 141s 702ms/step - loss: 0.0720 - accuracy: 0.9930 - val_loss: 0.0702 - val_accuracy: 0.9880\n",
            "Epoch 6/200\n",
            "200/200 [==============================] - 143s 712ms/step - loss: 0.0710 - accuracy: 0.9925 - val_loss: 0.0779 - val_accuracy: 0.9920\n",
            "Epoch 7/200\n",
            "200/200 [==============================] - 140s 699ms/step - loss: 0.0718 - accuracy: 0.9930 - val_loss: 0.0788 - val_accuracy: 0.9840\n",
            "Epoch 8/200\n",
            "200/200 [==============================] - 143s 713ms/step - loss: 0.0677 - accuracy: 0.9930 - val_loss: 0.0663 - val_accuracy: 0.9920\n",
            "Epoch 9/200\n",
            "200/200 [==============================] - 140s 701ms/step - loss: 0.0652 - accuracy: 0.9950 - val_loss: 0.0635 - val_accuracy: 0.9920\n",
            "Epoch 10/200\n",
            "200/200 [==============================] - 146s 730ms/step - loss: 0.0737 - accuracy: 0.9915 - val_loss: 0.1016 - val_accuracy: 0.9800\n",
            "Epoch 11/200\n",
            "200/200 [==============================] - 140s 699ms/step - loss: 0.0689 - accuracy: 0.9935 - val_loss: 0.0716 - val_accuracy: 0.9920\n",
            "Epoch 12/200\n",
            "200/200 [==============================] - 142s 707ms/step - loss: 0.0684 - accuracy: 0.9925 - val_loss: 0.0746 - val_accuracy: 0.9920\n",
            "Epoch 13/200\n",
            "200/200 [==============================] - 144s 719ms/step - loss: 0.0717 - accuracy: 0.9925 - val_loss: 0.0562 - val_accuracy: 0.9960\n",
            "Epoch 14/200\n",
            "200/200 [==============================] - 141s 703ms/step - loss: 0.0732 - accuracy: 0.9905 - val_loss: 0.0608 - val_accuracy: 0.9920\n",
            "Epoch 15/200\n",
            "200/200 [==============================] - 141s 704ms/step - loss: 0.0673 - accuracy: 0.9955 - val_loss: 0.0599 - val_accuracy: 0.9920\n",
            "Epoch 16/200\n",
            "200/200 [==============================] - 140s 702ms/step - loss: 0.0654 - accuracy: 0.9920 - val_loss: 0.0493 - val_accuracy: 0.9960\n",
            "Epoch 17/200\n",
            "200/200 [==============================] - 143s 713ms/step - loss: 0.0749 - accuracy: 0.9925 - val_loss: 0.0489 - val_accuracy: 1.0000\n",
            "Epoch 18/200\n",
            "200/200 [==============================] - 141s 703ms/step - loss: 0.0598 - accuracy: 0.9950 - val_loss: 0.0492 - val_accuracy: 0.9960\n",
            "Epoch 19/200\n",
            "200/200 [==============================] - 141s 706ms/step - loss: 0.0637 - accuracy: 0.9935 - val_loss: 0.0565 - val_accuracy: 0.9920\n",
            "Epoch 20/200\n",
            "200/200 [==============================] - 140s 701ms/step - loss: 0.0559 - accuracy: 0.9975 - val_loss: 0.0748 - val_accuracy: 0.9920\n",
            "Epoch 21/200\n",
            "200/200 [==============================] - 142s 710ms/step - loss: 0.0692 - accuracy: 0.9925 - val_loss: 0.0620 - val_accuracy: 0.9920\n",
            "Epoch 22/200\n",
            "200/200 [==============================] - 144s 720ms/step - loss: 0.0591 - accuracy: 0.9970 - val_loss: 0.0592 - val_accuracy: 0.9920\n",
            "Epoch 23/200\n",
            "200/200 [==============================] - 148s 739ms/step - loss: 0.0555 - accuracy: 0.9970 - val_loss: 0.0716 - val_accuracy: 0.9880\n",
            "Epoch 24/200\n",
            "200/200 [==============================] - 143s 712ms/step - loss: 0.0614 - accuracy: 0.9945 - val_loss: 0.0502 - val_accuracy: 0.9960\n",
            "Epoch 25/200\n",
            "200/200 [==============================] - 141s 706ms/step - loss: 0.0754 - accuracy: 0.9900 - val_loss: 0.0669 - val_accuracy: 0.9920\n",
            "Epoch 26/200\n",
            "200/200 [==============================] - 143s 717ms/step - loss: 0.0564 - accuracy: 0.9965 - val_loss: 0.0486 - val_accuracy: 0.9960\n",
            "Epoch 27/200\n",
            "200/200 [==============================] - 146s 731ms/step - loss: 0.0533 - accuracy: 0.9965 - val_loss: 0.0786 - val_accuracy: 0.9920\n",
            "Epoch 28/200\n",
            "200/200 [==============================] - 144s 718ms/step - loss: 0.0595 - accuracy: 0.9935 - val_loss: 0.0513 - val_accuracy: 0.9960\n",
            "Epoch 29/200\n",
            "200/200 [==============================] - 140s 701ms/step - loss: 0.0646 - accuracy: 0.9920 - val_loss: 0.0467 - val_accuracy: 0.9960\n",
            "Epoch 30/200\n",
            "200/200 [==============================] - 142s 712ms/step - loss: 0.0597 - accuracy: 0.9950 - val_loss: 0.0568 - val_accuracy: 0.9920\n",
            "Epoch 31/200\n",
            "200/200 [==============================] - 140s 699ms/step - loss: 0.0573 - accuracy: 0.9955 - val_loss: 0.0548 - val_accuracy: 0.9920\n",
            "Epoch 32/200\n",
            "200/200 [==============================] - 143s 712ms/step - loss: 0.0643 - accuracy: 0.9945 - val_loss: 0.0410 - val_accuracy: 1.0000\n",
            "Epoch 33/200\n",
            "200/200 [==============================] - 140s 698ms/step - loss: 0.0609 - accuracy: 0.9940 - val_loss: 0.0469 - val_accuracy: 0.9960\n",
            "Epoch 34/200\n",
            "200/200 [==============================] - 142s 711ms/step - loss: 0.0571 - accuracy: 0.9960 - val_loss: 0.0501 - val_accuracy: 0.9960\n",
            "Epoch 35/200\n",
            "200/200 [==============================] - 146s 729ms/step - loss: 0.0673 - accuracy: 0.9915 - val_loss: 0.0459 - val_accuracy: 0.9960\n",
            "Epoch 36/200\n",
            "200/200 [==============================] - 141s 701ms/step - loss: 0.0557 - accuracy: 0.9965 - val_loss: 0.0645 - val_accuracy: 0.9920\n",
            "Epoch 37/200\n",
            "200/200 [==============================] - 142s 709ms/step - loss: 0.0549 - accuracy: 0.9950 - val_loss: 0.0986 - val_accuracy: 0.9920\n",
            "Epoch 38/200\n",
            "200/200 [==============================] - 140s 700ms/step - loss: 0.0686 - accuracy: 0.9905 - val_loss: 0.0942 - val_accuracy: 0.9920\n",
            "Epoch 39/200\n",
            "200/200 [==============================] - 141s 704ms/step - loss: 0.0607 - accuracy: 0.9940 - val_loss: 0.0776 - val_accuracy: 0.9920\n",
            "Epoch 40/200\n",
            "200/200 [==============================] - 139s 693ms/step - loss: 0.0584 - accuracy: 0.9950 - val_loss: 0.0852 - val_accuracy: 0.9840\n",
            "Epoch 41/200\n",
            "200/200 [==============================] - 142s 707ms/step - loss: 0.0615 - accuracy: 0.9945 - val_loss: 0.0717 - val_accuracy: 0.9840\n",
            "Epoch 42/200\n",
            "200/200 [==============================] - 139s 693ms/step - loss: 0.0603 - accuracy: 0.9935 - val_loss: 0.0526 - val_accuracy: 0.9920\n",
            "Epoch 43/200\n",
            "200/200 [==============================] - 147s 732ms/step - loss: 0.0546 - accuracy: 0.9950 - val_loss: 0.0508 - val_accuracy: 0.9920\n",
            "Epoch 44/200\n",
            "200/200 [==============================] - 139s 691ms/step - loss: 0.0572 - accuracy: 0.9945 - val_loss: 0.0468 - val_accuracy: 0.9960\n",
            "Epoch 45/200\n",
            "200/200 [==============================] - 143s 714ms/step - loss: 0.0542 - accuracy: 0.9950 - val_loss: 0.0474 - val_accuracy: 0.9960\n",
            "Epoch 46/200\n",
            "200/200 [==============================] - 141s 704ms/step - loss: 0.0551 - accuracy: 0.9935 - val_loss: 0.0628 - val_accuracy: 0.9920\n",
            "Epoch 47/200\n",
            "200/200 [==============================] - 138s 690ms/step - loss: 0.0552 - accuracy: 0.9965 - val_loss: 0.0524 - val_accuracy: 0.9920\n",
            "Epoch 48/200\n",
            "200/200 [==============================] - 141s 705ms/step - loss: 0.0592 - accuracy: 0.9935 - val_loss: 0.0467 - val_accuracy: 0.9960\n",
            "Epoch 49/200\n",
            "200/200 [==============================] - 138s 690ms/step - loss: 0.0649 - accuracy: 0.9920 - val_loss: 0.0409 - val_accuracy: 1.0000\n",
            "Epoch 50/200\n",
            "200/200 [==============================] - 141s 704ms/step - loss: 0.0524 - accuracy: 0.9965 - val_loss: 0.0629 - val_accuracy: 0.9920\n",
            "Epoch 51/200\n",
            "200/200 [==============================] - 140s 697ms/step - loss: 0.0446 - accuracy: 0.9990 - val_loss: 0.0611 - val_accuracy: 0.9920\n",
            "Epoch 52/200\n",
            "200/200 [==============================] - 142s 710ms/step - loss: 0.0454 - accuracy: 0.9980 - val_loss: 0.0539 - val_accuracy: 0.9920\n",
            "Epoch 53/200\n",
            "200/200 [==============================] - 141s 706ms/step - loss: 0.0449 - accuracy: 0.9965 - val_loss: 0.0555 - val_accuracy: 0.9920\n",
            "Epoch 54/200\n",
            "200/200 [==============================] - 140s 700ms/step - loss: 0.0505 - accuracy: 0.9955 - val_loss: 0.0627 - val_accuracy: 0.9920\n",
            "Epoch 55/200\n",
            "200/200 [==============================] - 147s 735ms/step - loss: 0.0530 - accuracy: 0.9930 - val_loss: 0.0788 - val_accuracy: 0.9920\n",
            "Epoch 56/200\n",
            "200/200 [==============================] - 142s 710ms/step - loss: 0.0675 - accuracy: 0.9915 - val_loss: 0.0881 - val_accuracy: 0.9920\n",
            "Epoch 57/200\n",
            "200/200 [==============================] - 140s 695ms/step - loss: 0.0580 - accuracy: 0.9950 - val_loss: 0.0387 - val_accuracy: 1.0000\n",
            "Epoch 58/200\n",
            "200/200 [==============================] - 142s 707ms/step - loss: 0.0509 - accuracy: 0.9950 - val_loss: 0.0500 - val_accuracy: 0.9920\n",
            "Epoch 59/200\n",
            "200/200 [==============================] - 140s 698ms/step - loss: 0.0519 - accuracy: 0.9965 - val_loss: 0.0422 - val_accuracy: 0.9920\n",
            "Epoch 60/200\n",
            "200/200 [==============================] - 143s 714ms/step - loss: 0.0505 - accuracy: 0.9940 - val_loss: 0.0359 - val_accuracy: 1.0000\n",
            "Epoch 61/200\n",
            "200/200 [==============================] - 141s 703ms/step - loss: 0.0676 - accuracy: 0.9890 - val_loss: 0.0633 - val_accuracy: 0.9920\n",
            "Epoch 62/200\n",
            "200/200 [==============================] - ETA: 0s - loss: 0.0463 - accuracy: 0.9975\n",
            "Epoch 62: loss 0.0463 and val_loss 0.0476 are below 0.05. Stopping training.\n",
            "200/200 [==============================] - 142s 707ms/step - loss: 0.0463 - accuracy: 0.9975 - val_loss: 0.0476 - val_accuracy: 0.9920\n"
          ]
        }
      ]
    },
    {
      "cell_type": "code",
      "source": [
        "# Evaluate the model on validation set\n",
        "val_loss, val_accuracy = model.evaluate(validation_generator)\n",
        "print(f'Validation Accuracy: {val_accuracy*100:.2f}%')\n",
        "print(f'Validation Loss: {val_loss:.2f}')\n",
        "\n",
        "# Evaluate the model on test set\n",
        "test_loss, test_accuracy = model.evaluate(test_generator)\n",
        "print(f'Test Accuracy: {test_accuracy*100:.2f}%')\n",
        "print(f'Test Loss: {test_loss:.2f}')"
      ],
      "metadata": {
        "id": "JkdW6I11B0IP",
        "colab": {
          "base_uri": "https://localhost:8080/"
        },
        "outputId": "d35c2f82-f357-4082-dc48-edc00f3cb10f"
      },
      "execution_count": 38,
      "outputs": [
        {
          "output_type": "stream",
          "name": "stdout",
          "text": [
            "25/25 [==============================] - 7s 271ms/step - loss: 0.0476 - accuracy: 0.9920\n",
            "Validation Accuracy: 99.20%\n",
            "Validation Loss: 0.05\n",
            "25/25 [==============================] - 11s 416ms/step - loss: 0.0355 - accuracy: 1.0000\n",
            "Test Accuracy: 100.00%\n",
            "Test Loss: 0.04\n"
          ]
        }
      ]
    },
    {
      "cell_type": "code",
      "source": [
        "def model_performance(history, Epochs):\n",
        "    tr_acc = history.history['accuracy']\n",
        "    tr_loss = history.history['loss']\n",
        "    val_acc = history.history['val_accuracy']\n",
        "    val_loss = history.history['val_loss']\n",
        "\n",
        "    Epochs = [i+1 for i in range(len(tr_acc))]\n",
        "\n",
        "    plt.figure(figsize= (20, 8))\n",
        "    plt.style.use('fivethirtyeight')\n",
        "\n",
        "    plt.subplot(1, 2, 1)\n",
        "    plt.plot(Epochs, tr_loss, 'r', label= 'Training loss')\n",
        "    plt.plot(Epochs, val_loss, 'g', label= 'Validation loss')\n",
        "    plt.title('Training and Validation Loss')\n",
        "    plt.xlabel('Epochs')\n",
        "    plt.ylabel('Loss')\n",
        "    plt.legend()\n",
        "\n",
        "    plt.subplot(1, 2, 2)\n",
        "    plt.plot(Epochs, tr_acc, 'r', label= 'Training Accuracy')\n",
        "    plt.plot(Epochs, val_acc, 'g', label= 'Validation Accuracy')\n",
        "    plt.title('Training and Validation Accuracy')\n",
        "    plt.xlabel('Epochs')\n",
        "    plt.ylabel('Accuracy')\n",
        "    plt.legend()\n",
        "\n",
        "    plt.tight_layout\n",
        "    plt.show()\n",
        "\n",
        "\n",
        "model_performance(history, 200)"
      ],
      "metadata": {
        "id": "mmQD5bYDvV_J",
        "colab": {
          "base_uri": "https://localhost:8080/",
          "height": 631
        },
        "outputId": "12dd3f52-3c3a-4608-887a-18d7ba8b6ea4"
      },
      "execution_count": 31,
      "outputs": [
        {
          "output_type": "display_data",
          "data": {
            "text/plain": [
              "<Figure size 2000x800 with 2 Axes>"
            ],
            "image/png": "[encoded data removed]"
          },
          "metadata": {}
        }
      ]
    },
    {
      "cell_type": "code",
      "source": [
        "# Confusion matrix\n",
        "y_true = test_generator.classes\n",
        "y_pred = np.argmax(model.predict(test_generator), axis=-1)\n",
        "\n",
        "conf_matrix = confusion_matrix(y_true, y_pred)\n",
        "plt.figure(figsize=(10, 8))\n",
        "sns.heatmap(conf_matrix, annot=True, fmt='d', cmap='Blues')\n",
        "plt.xlabel('Predicted')\n",
        "plt.ylabel('True')\n",
        "plt.title('Confusion Matrix')\n",
        "plt.show()\n",
        "\n",
        "# Classification report\n",
        "class_names = list(test_generator.class_indices.keys())\n",
        "print(classification_report(y_true, y_pred, target_names=class_names))"
      ],
      "metadata": {
        "colab": {
          "base_uri": "https://localhost:8080/",
          "height": 993
        },
        "id": "jt6kkMuAqufS",
        "outputId": "710614a4-8675-4478-cdd5-c95d0e0f5a0c"
      },
      "execution_count": 32,
      "outputs": [
        {
          "output_type": "stream",
          "name": "stdout",
          "text": [
            "25/25 [==============================] - 6s 228ms/step\n"
          ]
        },
        {
          "output_type": "display_data",
          "data": {
            "text/plain": [
              "<Figure size 1000x800 with 2 Axes>"
            ],
            "image/png": "[encoded data removed]"
          },
          "metadata": {}
        },
        {
          "output_type": "stream",
          "name": "stdout",
          "text": [
            "                   precision    recall  f1-score   support\n",
            "\n",
            "  Bacterialblight       0.16      0.16      0.16        50\n",
            "            Blast       0.18      0.18      0.18        50\n",
            "        Brownspot       0.22      0.22      0.22        50\n",
            "Healthy Rice Leaf       0.24      0.24      0.24        50\n",
            "       Rice Hispa       0.16      0.16      0.16        50\n",
            "\n",
            "         accuracy                           0.19       250\n",
            "        macro avg       0.19      0.19      0.19       250\n",
            "     weighted avg       0.19      0.19      0.19       250\n",
            "\n"
          ]
        }
      ]
    },
    {
      "cell_type": "code",
      "source": [
        "# Save the full model in H5 format\n",
        "model.save('model_rice.h5')\n",
        "print('Saved full model as model_rice.h5')\n",
        "\n",
        "# Convert and save the model to TFLite format\n",
        "try:\n",
        "    converter = tf.lite.TFLiteConverter.from_keras_model(model)\n",
        "    tflite_model = converter.convert()\n",
        "    with open('model_rice.tflite', 'wb') as tflite_file:\n",
        "        tflite_file.write(tflite_model)\n",
        "    print('Saved model as model_rice.tflite')\n",
        "except Exception as e:\n",
        "    print(f'Failed to convert to TFLite: {e}')"
      ],
      "metadata": {
        "colab": {
          "base_uri": "https://localhost:8080/"
        },
        "id": "uAXz1Vuzsa4g",
        "outputId": "282fc617-0b5a-47de-e695-0fca58c2bcb5"
      },
      "execution_count": 39,
      "outputs": [
        {
          "output_type": "stream",
          "name": "stderr",
          "text": [
            "/usr/local/lib/python3.10/dist-packages/keras/src/engine/training.py:3103: UserWarning: You are saving your model as an HDF5 file via `model.save()`. This file format is considered legacy. We recommend using instead the native Keras format, e.g. `model.save('my_model.keras')`.\n",
            "  saving_api.save_model(\n"
          ]
        },
        {
          "output_type": "stream",
          "name": "stdout",
          "text": [
            "Saved full model as model_rice.h5\n",
            "Saved model as model_rice.tflite\n"
          ]
        }
      ]
    },
    {
      "cell_type": "code",
      "source": [
        "# Download the model files\n",
        "from google.colab import files\n",
        "\n",
        "# Download Keras model\n",
        "files.download('model_rice.h5')\n",
        "\n",
        "# Download TFLite model\n",
        "files.download('model_rice.tflite')"
      ],
      "metadata": {
        "colab": {
          "base_uri": "https://localhost:8080/",
          "height": 17
        },
        "id": "hlUJ8Dt_wiSM",
        "outputId": "7f5ac839-bdf7-4b1c-e53a-369fe71a0809"
      },
      "execution_count": 40,
      "outputs": [
        {
          "output_type": "display_data",
          "data": {
            "text/plain": [
              "<IPython.core.display.Javascript object>"
            ],
            "application/javascript": [
              "\n",
              "    async function download(id, filename, size) {\n",
              "      if (!google.colab.kernel.accessAllowed) {\n",
              "        return;\n",
              "      }\n",
              "      const div = document.createElement('div');\n",
              "      const label = document.createElement('label');\n",
              "      label.textContent = `Downloading \"${filename}\": `;\n",
              "      div.appendChild(label);\n",
              "      const progress = document.createElement('progress');\n",
              "      progress.max = size;\n",
              "      div.appendChild(progress);\n",
              "      document.body.appendChild(div);\n",
              "\n",
              "      const buffers = [];\n",
              "      let downloaded = 0;\n",
              "\n",
              "      const channel = await google.colab.kernel.comms.open(id);\n",
              "      // Send a message to notify the kernel that we're ready.\n",
              "      channel.send({})\n",
              "\n",
              "      for await (const message of channel.messages) {\n",
              "        // Send a message to notify the kernel that we're ready.\n",
              "        channel.send({})\n",
              "        if (message.buffers) {\n",
              "          for (const buffer of message.buffers) {\n",
              "            buffers.push(buffer);\n",
              "            downloaded += buffer.byteLength;\n",
              "            progress.value = downloaded;\n",
              "          }\n",
              "        }\n",
              "      }\n",
              "      const blob = new Blob(buffers, {type: 'application/binary'});\n",
              "      const a = document.createElement('a');\n",
              "      a.href = window.URL.createObjectURL(blob);\n",
              "      a.download = filename;\n",
              "      div.appendChild(a);\n",
              "      a.click();\n",
              "      div.remove();\n",
              "    }\n",
              "  "
            ]
          },
          "metadata": {}
        },
        {
          "output_type": "display_data",
          "data": {
            "text/plain": [
              "<IPython.core.display.Javascript object>"
            ],
            "application/javascript": [
              "download(\"download_f91418e0-32f1-4be3-8ed7-4ecb81b5a4fa\", \"model_rice.h5\", 45336704)"
            ]
          },
          "metadata": {}
        },
        {
          "output_type": "display_data",
          "data": {
            "text/plain": [
              "<IPython.core.display.Javascript object>"
            ],
            "application/javascript": [
              "\n",
              "    async function download(id, filename, size) {\n",
              "      if (!google.colab.kernel.accessAllowed) {\n",
              "        return;\n",
              "      }\n",
              "      const div = document.createElement('div');\n",
              "      const label = document.createElement('label');\n",
              "      label.textContent = `Downloading \"${filename}\": `;\n",
              "      div.appendChild(label);\n",
              "      const progress = document.createElement('progress');\n",
              "      progress.max = size;\n",
              "      div.appendChild(progress);\n",
              "      document.body.appendChild(div);\n",
              "\n",
              "      const buffers = [];\n",
              "      let downloaded = 0;\n",
              "\n",
              "      const channel = await google.colab.kernel.comms.open(id);\n",
              "      // Send a message to notify the kernel that we're ready.\n",
              "      channel.send({})\n",
              "\n",
              "      for await (const message of channel.messages) {\n",
              "        // Send a message to notify the kernel that we're ready.\n",
              "        channel.send({})\n",
              "        if (message.buffers) {\n",
              "          for (const buffer of message.buffers) {\n",
              "            buffers.push(buffer);\n",
              "            downloaded += buffer.byteLength;\n",
              "            progress.value = downloaded;\n",
              "          }\n",
              "        }\n",
              "      }\n",
              "      const blob = new Blob(buffers, {type: 'application/binary'});\n",
              "      const a = document.createElement('a');\n",
              "      a.href = window.URL.createObjectURL(blob);\n",
              "      a.download = filename;\n",
              "      div.appendChild(a);\n",
              "      a.click();\n",
              "      div.remove();\n",
              "    }\n",
              "  "
            ]
          },
          "metadata": {}
        },
        {
          "output_type": "display_data",
          "data": {
            "text/plain": [
              "<IPython.core.display.Javascript object>"
            ],
            "application/javascript": [
              "download(\"download_128ddfe1-269d-46ea-8eee-c780b55c7624\", \"model_rice.tflite\", 14914544)"
            ]
          },
          "metadata": {}
        }
      ]
    }
  ]
}